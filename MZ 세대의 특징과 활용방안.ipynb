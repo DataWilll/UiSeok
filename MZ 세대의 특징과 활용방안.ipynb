{
 "cells": [
  {
   "cell_type": "markdown",
   "metadata": {},
   "source": [
    "# 1. BC 카드 데이터 분석"
   ]
  },
  {
   "cell_type": "markdown",
   "metadata": {},
   "source": [
    "## ■ 데이터 설명\n",
    "### 1. 제공: BC 카드사\n",
    "### 2. 주제: 온라인 품목 상세 매출 데이터"
   ]
  },
  {
   "cell_type": "markdown",
   "metadata": {},
   "source": [
    "## ■ 데이터 전처리"
   ]
  },
  {
   "cell_type": "markdown",
   "metadata": {},
   "source": [
    "### ● 필요한 모듈 임포트"
   ]
  },
  {
   "cell_type": "code",
   "execution_count": 1,
   "metadata": {},
   "outputs": [],
   "source": [
    "import pandas as pd\n",
    "import numpy as np\n",
    "import matplotlib.pyplot as plt\n",
    "import seaborn as sns\n",
    "import warnings\n",
    "from matplotlib import font_manager, rc\n",
    "\n",
    "pd.set_option('display.max_columns', None)\n",
    "warnings.filterwarnings(action='ignore')\n",
    "pd.options.display.float_format = '{:.5f}'.format\n",
    "plt.rc('font', family='Malgun Gothic')\n",
    "plt.rc('axes', unicode_minus=False)"
   ]
  },
  {
   "cell_type": "markdown",
   "metadata": {},
   "source": [
    "### ● 데이터 로드 및 데이터 살펴보기"
   ]
  },
  {
   "cell_type": "code",
   "execution_count": 8,
   "metadata": {},
   "outputs": [
    {
     "name": "stdout",
     "output_type": "stream",
     "text": [
      "(519297, 13)\n"
     ]
    },
    {
     "data": {
      "text/html": [
       "<div>\n",
       "<style scoped>\n",
       "    .dataframe tbody tr th:only-of-type {\n",
       "        vertical-align: middle;\n",
       "    }\n",
       "\n",
       "    .dataframe tbody tr th {\n",
       "        vertical-align: top;\n",
       "    }\n",
       "\n",
       "    .dataframe thead th {\n",
       "        text-align: right;\n",
       "    }\n",
       "</style>\n",
       "<table border=\"1\" class=\"dataframe\">\n",
       "  <thead>\n",
       "    <tr style=\"text-align: right;\">\n",
       "      <th></th>\n",
       "      <th>기준년월</th>\n",
       "      <th>품목대분류코드</th>\n",
       "      <th>품목대분류명</th>\n",
       "      <th>품목중분류코드</th>\n",
       "      <th>품목중분류명</th>\n",
       "      <th>성별</th>\n",
       "      <th>연령</th>\n",
       "      <th>가구생애주기</th>\n",
       "      <th>고객소재지_광역시도</th>\n",
       "      <th>고객소재지_시군구</th>\n",
       "      <th>고객소재지_읍면동</th>\n",
       "      <th>매출금액</th>\n",
       "      <th>매출건수</th>\n",
       "    </tr>\n",
       "  </thead>\n",
       "  <tbody>\n",
       "    <tr>\n",
       "      <th>0</th>\n",
       "      <td>201903</td>\n",
       "      <td>10</td>\n",
       "      <td>의류</td>\n",
       "      <td>1010</td>\n",
       "      <td>여성의류</td>\n",
       "      <td>여성</td>\n",
       "      <td>40대</td>\n",
       "      <td>초중고자녀가구</td>\n",
       "      <td>서울특별시</td>\n",
       "      <td>구로구</td>\n",
       "      <td>궁동</td>\n",
       "      <td>782521</td>\n",
       "      <td>13</td>\n",
       "    </tr>\n",
       "    <tr>\n",
       "      <th>1</th>\n",
       "      <td>201903</td>\n",
       "      <td>21</td>\n",
       "      <td>e상품/서비스</td>\n",
       "      <td>2110</td>\n",
       "      <td>o2o서비스</td>\n",
       "      <td>여성</td>\n",
       "      <td>20대</td>\n",
       "      <td>신혼영유아가구</td>\n",
       "      <td>서울특별시</td>\n",
       "      <td>구로구</td>\n",
       "      <td>궁동</td>\n",
       "      <td>963789</td>\n",
       "      <td>29</td>\n",
       "    </tr>\n",
       "    <tr>\n",
       "      <th>2</th>\n",
       "      <td>201903</td>\n",
       "      <td>19</td>\n",
       "      <td>출산/육아</td>\n",
       "      <td>1913</td>\n",
       "      <td>육아용품서비스</td>\n",
       "      <td>여성</td>\n",
       "      <td>30대</td>\n",
       "      <td>신혼영유아가구</td>\n",
       "      <td>서울특별시</td>\n",
       "      <td>구로구</td>\n",
       "      <td>궁동</td>\n",
       "      <td>924309</td>\n",
       "      <td>46</td>\n",
       "    </tr>\n",
       "    <tr>\n",
       "      <th>3</th>\n",
       "      <td>201903</td>\n",
       "      <td>21</td>\n",
       "      <td>e상품/서비스</td>\n",
       "      <td>2111</td>\n",
       "      <td>e머니/상품권</td>\n",
       "      <td>여성</td>\n",
       "      <td>30대</td>\n",
       "      <td>신혼영유아가구</td>\n",
       "      <td>서울특별시</td>\n",
       "      <td>구로구</td>\n",
       "      <td>궁동</td>\n",
       "      <td>1089360</td>\n",
       "      <td>54</td>\n",
       "    </tr>\n",
       "    <tr>\n",
       "      <th>4</th>\n",
       "      <td>201903</td>\n",
       "      <td>17</td>\n",
       "      <td>생활</td>\n",
       "      <td>1710</td>\n",
       "      <td>생활용품</td>\n",
       "      <td>여성</td>\n",
       "      <td>30대</td>\n",
       "      <td>신혼영유아가구</td>\n",
       "      <td>서울특별시</td>\n",
       "      <td>구로구</td>\n",
       "      <td>궁동</td>\n",
       "      <td>1656740</td>\n",
       "      <td>58</td>\n",
       "    </tr>\n",
       "  </tbody>\n",
       "</table>\n",
       "</div>"
      ],
      "text/plain": [
       "     기준년월  품목대분류코드   품목대분류명  품목중분류코드   품목중분류명  성별   연령   가구생애주기 고객소재지_광역시도  \\\n",
       "0  201903       10       의류     1010     여성의류  여성  40대  초중고자녀가구      서울특별시   \n",
       "1  201903       21  e상품/서비스     2110   o2o서비스  여성  20대  신혼영유아가구      서울특별시   \n",
       "2  201903       19    출산/육아     1913  육아용품서비스  여성  30대  신혼영유아가구      서울특별시   \n",
       "3  201903       21  e상품/서비스     2111  e머니/상품권  여성  30대  신혼영유아가구      서울특별시   \n",
       "4  201903       17       생활     1710     생활용품  여성  30대  신혼영유아가구      서울특별시   \n",
       "\n",
       "  고객소재지_시군구 고객소재지_읍면동     매출금액  매출건수  \n",
       "0       구로구        궁동   782521    13  \n",
       "1       구로구        궁동   963789    29  \n",
       "2       구로구        궁동   924309    46  \n",
       "3       구로구        궁동  1089360    54  \n",
       "4       구로구        궁동  1656740    58  "
      ]
     },
     "execution_count": 8,
     "metadata": {},
     "output_type": "execute_result"
    }
   ],
   "source": [
    "bc = pd.read_csv('C:\\\\data\\\\fin\\\\금융보안원_경진대회_데이터(최종제출).csv')\n",
    "print(bc.shape)\n",
    "bc.head()"
   ]
  },
  {
   "cell_type": "markdown",
   "metadata": {},
   "source": [
    "**-> 데이터는 총 519297 행과 13개의 컬럼으로 이루어져 있다.**"
   ]
  },
  {
   "cell_type": "code",
   "execution_count": 4,
   "metadata": {},
   "outputs": [
    {
     "name": "stdout",
     "output_type": "stream",
     "text": [
      "<class 'pandas.core.frame.DataFrame'>\n",
      "RangeIndex: 519297 entries, 0 to 519296\n",
      "Data columns (total 13 columns):\n",
      " #   Column      Non-Null Count   Dtype \n",
      "---  ------      --------------   ----- \n",
      " 0   기준년월        519297 non-null  int64 \n",
      " 1   품목대분류코드     519297 non-null  int64 \n",
      " 2   품목대분류명      519297 non-null  object\n",
      " 3   품목중분류코드     519297 non-null  int64 \n",
      " 4   품목중분류명      519297 non-null  object\n",
      " 5   성별          519297 non-null  object\n",
      " 6   연령          519297 non-null  object\n",
      " 7   가구생애주기      519297 non-null  object\n",
      " 8   고객소재지_광역시도  519297 non-null  object\n",
      " 9   고객소재지_시군구   519297 non-null  object\n",
      " 10  고객소재지_읍면동   519297 non-null  object\n",
      " 11  매출금액        519297 non-null  int64 \n",
      " 12  매출건수        519297 non-null  int64 \n",
      "dtypes: int64(5), object(8)\n",
      "memory usage: 51.5+ MB\n"
     ]
    }
   ],
   "source": [
    "bc.info()"
   ]
  },
  {
   "cell_type": "markdown",
   "metadata": {},
   "source": [
    "#### -> 각 컬럼은 정수형 숫자(int64) 와 문자(object) 타입으로 구성되어 있다."
   ]
  },
  {
   "cell_type": "code",
   "execution_count": 9,
   "metadata": {},
   "outputs": [
    {
     "data": {
      "text/plain": [
       "기준년월          0\n",
       "품목대분류코드       0\n",
       "품목대분류명        0\n",
       "품목중분류코드       0\n",
       "품목중분류명        0\n",
       "성별            0\n",
       "연령            0\n",
       "가구생애주기        0\n",
       "고객소재지_광역시도    0\n",
       "고객소재지_시군구     0\n",
       "고객소재지_읍면동     0\n",
       "매출금액          0\n",
       "매출건수          0\n",
       "dtype: int64"
      ]
     },
     "execution_count": 9,
     "metadata": {},
     "output_type": "execute_result"
    }
   ],
   "source": [
    "bc.isnull().sum()"
   ]
  },
  {
   "cell_type": "markdown",
   "metadata": {},
   "source": [
    "#### -> 각 컬럼의 데이터에는 결측치가 없다."
   ]
  },
  {
   "cell_type": "code",
   "execution_count": 3,
   "metadata": {},
   "outputs": [
    {
     "data": {
      "text/plain": [
       "array([201903, 201909, 202003, 202009, 202103], dtype=int64)"
      ]
     },
     "execution_count": 3,
     "metadata": {},
     "output_type": "execute_result"
    }
   ],
   "source": [
    "bc['기준년월'].unique()"
   ]
  },
  {
   "cell_type": "markdown",
   "metadata": {},
   "source": [
    "#### -> 본 데이터의 조사기간은 2019년 3월, 2019년 9월, 2020년 3월, 2020년 9월, 2021년 3월로 총 5개월임을 알 수 있다."
   ]
  },
  {
   "cell_type": "code",
   "execution_count": 10,
   "metadata": {},
   "outputs": [
    {
     "data": {
      "image/png": "[encoded data removed]",
      "text/plain": [
       "<Figure size 1152x648 with 2 Axes>"
      ]
     },
     "metadata": {
      "needs_background": "light"
     },
     "output_type": "display_data"
    }
   ],
   "source": [
    "plt.figure(figsize=(16,9))\n",
    "sns.heatmap(bc.corr(), cmap='YlGnBu', annot=True, fmt='0.1f')\n",
    "plt.show()"
   ]
  },
  {
   "cell_type": "markdown",
   "metadata": {},
   "source": [
    "#### -> 수치형 컬럼들간의 상관관계 중, '품목대분류코드' 와 '품목중분류코드', '매출금액' 과 '매출건수' 가 높은 상관관계를 보인다."
   ]
  },
  {
   "cell_type": "markdown",
   "metadata": {},
   "source": [
    "### ● 필요한 명목형 변수의 변환"
   ]
  },
  {
   "cell_type": "code",
   "execution_count": 11,
   "metadata": {},
   "outputs": [
    {
     "data": {
      "text/html": [
       "<div>\n",
       "<style scoped>\n",
       "    .dataframe tbody tr th:only-of-type {\n",
       "        vertical-align: middle;\n",
       "    }\n",
       "\n",
       "    .dataframe tbody tr th {\n",
       "        vertical-align: top;\n",
       "    }\n",
       "\n",
       "    .dataframe thead th {\n",
       "        text-align: right;\n",
       "    }\n",
       "</style>\n",
       "<table border=\"1\" class=\"dataframe\">\n",
       "  <thead>\n",
       "    <tr style=\"text-align: right;\">\n",
       "      <th></th>\n",
       "      <th>count</th>\n",
       "      <th>unique</th>\n",
       "      <th>top</th>\n",
       "      <th>freq</th>\n",
       "    </tr>\n",
       "  </thead>\n",
       "  <tbody>\n",
       "    <tr>\n",
       "      <th>품목대분류명</th>\n",
       "      <td>519297</td>\n",
       "      <td>13</td>\n",
       "      <td>e상품/서비스</td>\n",
       "      <td>76052</td>\n",
       "    </tr>\n",
       "    <tr>\n",
       "      <th>품목중분류명</th>\n",
       "      <td>519297</td>\n",
       "      <td>50</td>\n",
       "      <td>o2o서비스</td>\n",
       "      <td>42064</td>\n",
       "    </tr>\n",
       "    <tr>\n",
       "      <th>성별</th>\n",
       "      <td>519297</td>\n",
       "      <td>2</td>\n",
       "      <td>여성</td>\n",
       "      <td>330244</td>\n",
       "    </tr>\n",
       "    <tr>\n",
       "      <th>연령</th>\n",
       "      <td>519297</td>\n",
       "      <td>6</td>\n",
       "      <td>40대</td>\n",
       "      <td>159877</td>\n",
       "    </tr>\n",
       "    <tr>\n",
       "      <th>가구생애주기</th>\n",
       "      <td>519297</td>\n",
       "      <td>5</td>\n",
       "      <td>신혼영유아가구</td>\n",
       "      <td>178693</td>\n",
       "    </tr>\n",
       "    <tr>\n",
       "      <th>고객소재지_광역시도</th>\n",
       "      <td>519297</td>\n",
       "      <td>3</td>\n",
       "      <td>서울특별시</td>\n",
       "      <td>306122</td>\n",
       "    </tr>\n",
       "    <tr>\n",
       "      <th>고객소재지_시군구</th>\n",
       "      <td>519297</td>\n",
       "      <td>38</td>\n",
       "      <td>수원시</td>\n",
       "      <td>38891</td>\n",
       "    </tr>\n",
       "    <tr>\n",
       "      <th>고객소재지_읍면동</th>\n",
       "      <td>519297</td>\n",
       "      <td>685</td>\n",
       "      <td>논현동</td>\n",
       "      <td>4251</td>\n",
       "    </tr>\n",
       "  </tbody>\n",
       "</table>\n",
       "</div>"
      ],
      "text/plain": [
       "             count unique      top    freq\n",
       "품목대분류명      519297     13  e상품/서비스   76052\n",
       "품목중분류명      519297     50   o2o서비스   42064\n",
       "성별          519297      2       여성  330244\n",
       "연령          519297      6      40대  159877\n",
       "가구생애주기      519297      5  신혼영유아가구  178693\n",
       "고객소재지_광역시도  519297      3    서울특별시  306122\n",
       "고객소재지_시군구   519297     38      수원시   38891\n",
       "고객소재지_읍면동   519297    685      논현동    4251"
      ]
     },
     "execution_count": 11,
     "metadata": {},
     "output_type": "execute_result"
    }
   ],
   "source": [
    "bc[bc.columns[bc.dtypes.map(lambda x:x=='object')]].describe().transpose()"
   ]
  },
  {
   "cell_type": "markdown",
   "metadata": {},
   "source": [
    "#### 각 컬럼 당 고유한 명목형 변수가 너무 많은 컬럼을 제외한다."
   ]
  },
  {
   "cell_type": "code",
   "execution_count": 12,
   "metadata": {},
   "outputs": [],
   "source": [
    "bc_e = bc.copy()"
   ]
  },
  {
   "cell_type": "code",
   "execution_count": 14,
   "metadata": {},
   "outputs": [
    {
     "data": {
      "text/html": [
       "<div>\n",
       "<style scoped>\n",
       "    .dataframe tbody tr th:only-of-type {\n",
       "        vertical-align: middle;\n",
       "    }\n",
       "\n",
       "    .dataframe tbody tr th {\n",
       "        vertical-align: top;\n",
       "    }\n",
       "\n",
       "    .dataframe thead th {\n",
       "        text-align: right;\n",
       "    }\n",
       "</style>\n",
       "<table border=\"1\" class=\"dataframe\">\n",
       "  <thead>\n",
       "    <tr style=\"text-align: right;\">\n",
       "      <th></th>\n",
       "      <th>기준년월</th>\n",
       "      <th>품목대분류코드</th>\n",
       "      <th>품목대분류명</th>\n",
       "      <th>품목중분류코드</th>\n",
       "      <th>성별</th>\n",
       "      <th>연령</th>\n",
       "      <th>가구생애주기</th>\n",
       "      <th>고객소재지_광역시도</th>\n",
       "      <th>고객소재지_시군구</th>\n",
       "      <th>매출금액</th>\n",
       "      <th>매출건수</th>\n",
       "    </tr>\n",
       "  </thead>\n",
       "  <tbody>\n",
       "    <tr>\n",
       "      <th>0</th>\n",
       "      <td>201903</td>\n",
       "      <td>10</td>\n",
       "      <td>의류</td>\n",
       "      <td>1010</td>\n",
       "      <td>여성</td>\n",
       "      <td>40대</td>\n",
       "      <td>초중고자녀가구</td>\n",
       "      <td>서울특별시</td>\n",
       "      <td>구로구</td>\n",
       "      <td>782521</td>\n",
       "      <td>13</td>\n",
       "    </tr>\n",
       "    <tr>\n",
       "      <th>1</th>\n",
       "      <td>201903</td>\n",
       "      <td>21</td>\n",
       "      <td>e상품/서비스</td>\n",
       "      <td>2110</td>\n",
       "      <td>여성</td>\n",
       "      <td>20대</td>\n",
       "      <td>신혼영유아가구</td>\n",
       "      <td>서울특별시</td>\n",
       "      <td>구로구</td>\n",
       "      <td>963789</td>\n",
       "      <td>29</td>\n",
       "    </tr>\n",
       "    <tr>\n",
       "      <th>2</th>\n",
       "      <td>201903</td>\n",
       "      <td>19</td>\n",
       "      <td>출산/육아</td>\n",
       "      <td>1913</td>\n",
       "      <td>여성</td>\n",
       "      <td>30대</td>\n",
       "      <td>신혼영유아가구</td>\n",
       "      <td>서울특별시</td>\n",
       "      <td>구로구</td>\n",
       "      <td>924309</td>\n",
       "      <td>46</td>\n",
       "    </tr>\n",
       "    <tr>\n",
       "      <th>3</th>\n",
       "      <td>201903</td>\n",
       "      <td>21</td>\n",
       "      <td>e상품/서비스</td>\n",
       "      <td>2111</td>\n",
       "      <td>여성</td>\n",
       "      <td>30대</td>\n",
       "      <td>신혼영유아가구</td>\n",
       "      <td>서울특별시</td>\n",
       "      <td>구로구</td>\n",
       "      <td>1089360</td>\n",
       "      <td>54</td>\n",
       "    </tr>\n",
       "    <tr>\n",
       "      <th>4</th>\n",
       "      <td>201903</td>\n",
       "      <td>17</td>\n",
       "      <td>생활</td>\n",
       "      <td>1710</td>\n",
       "      <td>여성</td>\n",
       "      <td>30대</td>\n",
       "      <td>신혼영유아가구</td>\n",
       "      <td>서울특별시</td>\n",
       "      <td>구로구</td>\n",
       "      <td>1656740</td>\n",
       "      <td>58</td>\n",
       "    </tr>\n",
       "  </tbody>\n",
       "</table>\n",
       "</div>"
      ],
      "text/plain": [
       "     기준년월  품목대분류코드   품목대분류명  품목중분류코드  성별   연령   가구생애주기 고객소재지_광역시도 고객소재지_시군구  \\\n",
       "0  201903       10       의류     1010  여성  40대  초중고자녀가구      서울특별시       구로구   \n",
       "1  201903       21  e상품/서비스     2110  여성  20대  신혼영유아가구      서울특별시       구로구   \n",
       "2  201903       19    출산/육아     1913  여성  30대  신혼영유아가구      서울특별시       구로구   \n",
       "3  201903       21  e상품/서비스     2111  여성  30대  신혼영유아가구      서울특별시       구로구   \n",
       "4  201903       17       생활     1710  여성  30대  신혼영유아가구      서울특별시       구로구   \n",
       "\n",
       "      매출금액  매출건수  \n",
       "0   782521    13  \n",
       "1   963789    29  \n",
       "2   924309    46  \n",
       "3  1089360    54  \n",
       "4  1656740    58  "
      ]
     },
     "execution_count": 14,
     "metadata": {},
     "output_type": "execute_result"
    }
   ],
   "source": [
    "bc_e.drop(['품목중분류명', '고객소재지_읍면동'], axis=1, inplace=True)\n",
    "bc_e.head()"
   ]
  },
  {
   "cell_type": "markdown",
   "metadata": {},
   "source": [
    "#### MZ세대와 MZ 아닌 세대로 구분하여 두 세대간의 차이를 통해 MZ 세대의 특징을 알아보고자 '연령' 컬럼을 인코딩 한다."
   ]
  },
  {
   "cell_type": "code",
   "execution_count": 15,
   "metadata": {},
   "outputs": [
    {
     "data": {
      "text/plain": [
       "array(['40대', '20대', '30대', '50대', '60대 이상', '20세 미만'], dtype=object)"
      ]
     },
     "execution_count": 15,
     "metadata": {},
     "output_type": "execute_result"
    }
   ],
   "source": [
    "bc_e['연령'].unique()"
   ]
  },
  {
   "cell_type": "code",
   "execution_count": 16,
   "metadata": {},
   "outputs": [
    {
     "data": {
      "text/plain": [
       "array([0, 1], dtype=int64)"
      ]
     },
     "execution_count": 16,
     "metadata": {},
     "output_type": "execute_result"
    }
   ],
   "source": [
    "bc_e['연령'] = bc_e['연령'].map(lambda x: 1 if x in ['20세 미만', '20대', '30대'] else 0)\n",
    "bc_e['연령'].unique()"
   ]
  },
  {
   "cell_type": "markdown",
   "metadata": {},
   "source": [
    "#### -> MZ세대를 1, MZ 아닌 세대를 0 으로 인코딩 하였다."
   ]
  },
  {
   "cell_type": "code",
   "execution_count": 21,
   "metadata": {},
   "outputs": [],
   "source": [
    "bc_d = pd.get_dummies(bc_e)"
   ]
  },
  {
   "cell_type": "code",
   "execution_count": 28,
   "metadata": {},
   "outputs": [],
   "source": [
    "corr_bc_d = bc_d.corr()\n",
    "corr_bc_d = corr_bc_d.apply(lambda x: round(x, 2))\n",
    "s = corr_bc_d.unstack()"
   ]
  },
  {
   "cell_type": "code",
   "execution_count": 45,
   "metadata": {
    "scrolled": false
   },
   "outputs": [
    {
     "data": {
      "text/html": [
       "<style  type=\"text/css\" >\n",
       "#T_ed5961ba_feb0_11eb_8a88_3c15c2bdf0eerow0_col0,#T_ed5961ba_feb0_11eb_8a88_3c15c2bdf0eerow1_col0,#T_ed5961ba_feb0_11eb_8a88_3c15c2bdf0eerow2_col0,#T_ed5961ba_feb0_11eb_8a88_3c15c2bdf0eerow3_col0{\n",
       "            background-color:  #fde725;\n",
       "            color:  #000000;\n",
       "        }#T_ed5961ba_feb0_11eb_8a88_3c15c2bdf0eerow4_col0,#T_ed5961ba_feb0_11eb_8a88_3c15c2bdf0eerow5_col0{\n",
       "            background-color:  #ece51b;\n",
       "            color:  #000000;\n",
       "        }#T_ed5961ba_feb0_11eb_8a88_3c15c2bdf0eerow6_col0,#T_ed5961ba_feb0_11eb_8a88_3c15c2bdf0eerow7_col0{\n",
       "            background-color:  #60ca60;\n",
       "            color:  #000000;\n",
       "        }#T_ed5961ba_feb0_11eb_8a88_3c15c2bdf0eerow8_col0,#T_ed5961ba_feb0_11eb_8a88_3c15c2bdf0eerow9_col0{\n",
       "            background-color:  #48c16e;\n",
       "            color:  #000000;\n",
       "        }#T_ed5961ba_feb0_11eb_8a88_3c15c2bdf0eerow10_col0,#T_ed5961ba_feb0_11eb_8a88_3c15c2bdf0eerow11_col0{\n",
       "            background-color:  #42be71;\n",
       "            color:  #000000;\n",
       "        }#T_ed5961ba_feb0_11eb_8a88_3c15c2bdf0eerow12_col0,#T_ed5961ba_feb0_11eb_8a88_3c15c2bdf0eerow13_col0{\n",
       "            background-color:  #40bd72;\n",
       "            color:  #000000;\n",
       "        }#T_ed5961ba_feb0_11eb_8a88_3c15c2bdf0eerow14_col0,#T_ed5961ba_feb0_11eb_8a88_3c15c2bdf0eerow15_col0,#T_ed5961ba_feb0_11eb_8a88_3c15c2bdf0eerow16_col0,#T_ed5961ba_feb0_11eb_8a88_3c15c2bdf0eerow17_col0{\n",
       "            background-color:  #3dbc74;\n",
       "            color:  #000000;\n",
       "        }#T_ed5961ba_feb0_11eb_8a88_3c15c2bdf0eerow18_col0,#T_ed5961ba_feb0_11eb_8a88_3c15c2bdf0eerow19_col0{\n",
       "            background-color:  #433d84;\n",
       "            color:  #f1f1f1;\n",
       "        }#T_ed5961ba_feb0_11eb_8a88_3c15c2bdf0eerow20_col0,#T_ed5961ba_feb0_11eb_8a88_3c15c2bdf0eerow21_col0{\n",
       "            background-color:  #453781;\n",
       "            color:  #f1f1f1;\n",
       "        }#T_ed5961ba_feb0_11eb_8a88_3c15c2bdf0eerow22_col0,#T_ed5961ba_feb0_11eb_8a88_3c15c2bdf0eerow23_col0{\n",
       "            background-color:  #46337f;\n",
       "            color:  #f1f1f1;\n",
       "        }#T_ed5961ba_feb0_11eb_8a88_3c15c2bdf0eerow24_col0,#T_ed5961ba_feb0_11eb_8a88_3c15c2bdf0eerow25_col0{\n",
       "            background-color:  #440154;\n",
       "            color:  #f1f1f1;\n",
       "        }</style><table id=\"T_ed5961ba_feb0_11eb_8a88_3c15c2bdf0ee\" ><thead>    <tr>        <th class=\"blank\" ></th>        <th class=\"blank level0\" ></th>        <th class=\"col_heading level0 col0\" >corr</th>    </tr></thead><tbody>\n",
       "                <tr>\n",
       "                        <th id=\"T_ed5961ba_feb0_11eb_8a88_3c15c2bdf0eelevel0_row0\" class=\"row_heading level0 row0\" >품목대분류코드</th>\n",
       "                        <th id=\"T_ed5961ba_feb0_11eb_8a88_3c15c2bdf0eelevel1_row0\" class=\"row_heading level1 row0\" >품목대분류명_기타</th>\n",
       "                        <td id=\"T_ed5961ba_feb0_11eb_8a88_3c15c2bdf0eerow0_col0\" class=\"data row0 col0\" >0.960000</td>\n",
       "            </tr>\n",
       "            <tr>\n",
       "                        <th id=\"T_ed5961ba_feb0_11eb_8a88_3c15c2bdf0eelevel0_row1\" class=\"row_heading level0 row1\" >품목중분류코드</th>\n",
       "                        <th id=\"T_ed5961ba_feb0_11eb_8a88_3c15c2bdf0eelevel1_row1\" class=\"row_heading level1 row1\" >품목대분류명_기타</th>\n",
       "                        <td id=\"T_ed5961ba_feb0_11eb_8a88_3c15c2bdf0eerow1_col0\" class=\"data row1 col0\" >0.960000</td>\n",
       "            </tr>\n",
       "            <tr>\n",
       "                        <th id=\"T_ed5961ba_feb0_11eb_8a88_3c15c2bdf0eelevel0_row2\" class=\"row_heading level0 row2\" rowspan=2>품목대분류명_기타</th>\n",
       "                        <th id=\"T_ed5961ba_feb0_11eb_8a88_3c15c2bdf0eelevel1_row2\" class=\"row_heading level1 row2\" >품목대분류코드</th>\n",
       "                        <td id=\"T_ed5961ba_feb0_11eb_8a88_3c15c2bdf0eerow2_col0\" class=\"data row2 col0\" >0.960000</td>\n",
       "            </tr>\n",
       "            <tr>\n",
       "                                <th id=\"T_ed5961ba_feb0_11eb_8a88_3c15c2bdf0eelevel1_row3\" class=\"row_heading level1 row3\" >품목중분류코드</th>\n",
       "                        <td id=\"T_ed5961ba_feb0_11eb_8a88_3c15c2bdf0eerow3_col0\" class=\"data row3 col0\" >0.960000</td>\n",
       "            </tr>\n",
       "            <tr>\n",
       "                        <th id=\"T_ed5961ba_feb0_11eb_8a88_3c15c2bdf0eelevel0_row4\" class=\"row_heading level0 row4\" >매출금액</th>\n",
       "                        <th id=\"T_ed5961ba_feb0_11eb_8a88_3c15c2bdf0eelevel1_row4\" class=\"row_heading level1 row4\" >매출건수</th>\n",
       "                        <td id=\"T_ed5961ba_feb0_11eb_8a88_3c15c2bdf0eerow4_col0\" class=\"data row4 col0\" >0.910000</td>\n",
       "            </tr>\n",
       "            <tr>\n",
       "                        <th id=\"T_ed5961ba_feb0_11eb_8a88_3c15c2bdf0eelevel0_row5\" class=\"row_heading level0 row5\" >매출건수</th>\n",
       "                        <th id=\"T_ed5961ba_feb0_11eb_8a88_3c15c2bdf0eelevel1_row5\" class=\"row_heading level1 row5\" >매출금액</th>\n",
       "                        <td id=\"T_ed5961ba_feb0_11eb_8a88_3c15c2bdf0eerow5_col0\" class=\"data row5 col0\" >0.910000</td>\n",
       "            </tr>\n",
       "            <tr>\n",
       "                        <th id=\"T_ed5961ba_feb0_11eb_8a88_3c15c2bdf0eelevel0_row6\" class=\"row_heading level0 row6\" >연령</th>\n",
       "                        <th id=\"T_ed5961ba_feb0_11eb_8a88_3c15c2bdf0eelevel1_row6\" class=\"row_heading level1 row6\" >가구생애주기_1인가구</th>\n",
       "                        <td id=\"T_ed5961ba_feb0_11eb_8a88_3c15c2bdf0eerow6_col0\" class=\"data row6 col0\" >0.550000</td>\n",
       "            </tr>\n",
       "            <tr>\n",
       "                        <th id=\"T_ed5961ba_feb0_11eb_8a88_3c15c2bdf0eelevel0_row7\" class=\"row_heading level0 row7\" >가구생애주기_1인가구</th>\n",
       "                        <th id=\"T_ed5961ba_feb0_11eb_8a88_3c15c2bdf0eelevel1_row7\" class=\"row_heading level1 row7\" >연령</th>\n",
       "                        <td id=\"T_ed5961ba_feb0_11eb_8a88_3c15c2bdf0eerow7_col0\" class=\"data row7 col0\" >0.550000</td>\n",
       "            </tr>\n",
       "            <tr>\n",
       "                        <th id=\"T_ed5961ba_feb0_11eb_8a88_3c15c2bdf0eelevel0_row8\" class=\"row_heading level0 row8\" >고객소재지_시군구_수원시</th>\n",
       "                        <th id=\"T_ed5961ba_feb0_11eb_8a88_3c15c2bdf0eelevel1_row8\" class=\"row_heading level1 row8\" >고객소재지_광역시도_경기도</th>\n",
       "                        <td id=\"T_ed5961ba_feb0_11eb_8a88_3c15c2bdf0eerow8_col0\" class=\"data row8 col0\" >0.470000</td>\n",
       "            </tr>\n",
       "            <tr>\n",
       "                        <th id=\"T_ed5961ba_feb0_11eb_8a88_3c15c2bdf0eelevel0_row9\" class=\"row_heading level0 row9\" >고객소재지_광역시도_경기도</th>\n",
       "                        <th id=\"T_ed5961ba_feb0_11eb_8a88_3c15c2bdf0eelevel1_row9\" class=\"row_heading level1 row9\" >고객소재지_시군구_수원시</th>\n",
       "                        <td id=\"T_ed5961ba_feb0_11eb_8a88_3c15c2bdf0eerow9_col0\" class=\"data row9 col0\" >0.470000</td>\n",
       "            </tr>\n",
       "            <tr>\n",
       "                        <th id=\"T_ed5961ba_feb0_11eb_8a88_3c15c2bdf0eelevel0_row10\" class=\"row_heading level0 row10\" >고객소재지_시군구_서구</th>\n",
       "                        <th id=\"T_ed5961ba_feb0_11eb_8a88_3c15c2bdf0eelevel1_row10\" class=\"row_heading level1 row10\" >고객소재지_광역시도_인천광역시</th>\n",
       "                        <td id=\"T_ed5961ba_feb0_11eb_8a88_3c15c2bdf0eerow10_col0\" class=\"data row10 col0\" >0.450000</td>\n",
       "            </tr>\n",
       "            <tr>\n",
       "                        <th id=\"T_ed5961ba_feb0_11eb_8a88_3c15c2bdf0eelevel0_row11\" class=\"row_heading level0 row11\" >고객소재지_광역시도_인천광역시</th>\n",
       "                        <th id=\"T_ed5961ba_feb0_11eb_8a88_3c15c2bdf0eelevel1_row11\" class=\"row_heading level1 row11\" >고객소재지_시군구_서구</th>\n",
       "                        <td id=\"T_ed5961ba_feb0_11eb_8a88_3c15c2bdf0eerow11_col0\" class=\"data row11 col0\" >0.450000</td>\n",
       "            </tr>\n",
       "            <tr>\n",
       "                        <th id=\"T_ed5961ba_feb0_11eb_8a88_3c15c2bdf0eelevel0_row12\" class=\"row_heading level0 row12\" >고객소재지_시군구_용인시</th>\n",
       "                        <th id=\"T_ed5961ba_feb0_11eb_8a88_3c15c2bdf0eelevel1_row12\" class=\"row_heading level1 row12\" >고객소재지_광역시도_경기도</th>\n",
       "                        <td id=\"T_ed5961ba_feb0_11eb_8a88_3c15c2bdf0eerow12_col0\" class=\"data row12 col0\" >0.440000</td>\n",
       "            </tr>\n",
       "            <tr>\n",
       "                        <th id=\"T_ed5961ba_feb0_11eb_8a88_3c15c2bdf0eelevel0_row13\" class=\"row_heading level0 row13\" rowspan=3>고객소재지_광역시도_경기도</th>\n",
       "                        <th id=\"T_ed5961ba_feb0_11eb_8a88_3c15c2bdf0eelevel1_row13\" class=\"row_heading level1 row13\" >고객소재지_시군구_용인시</th>\n",
       "                        <td id=\"T_ed5961ba_feb0_11eb_8a88_3c15c2bdf0eerow13_col0\" class=\"data row13 col0\" >0.440000</td>\n",
       "            </tr>\n",
       "            <tr>\n",
       "                                <th id=\"T_ed5961ba_feb0_11eb_8a88_3c15c2bdf0eelevel1_row14\" class=\"row_heading level1 row14\" >고객소재지_시군구_고양시</th>\n",
       "                        <td id=\"T_ed5961ba_feb0_11eb_8a88_3c15c2bdf0eerow14_col0\" class=\"data row14 col0\" >0.430000</td>\n",
       "            </tr>\n",
       "            <tr>\n",
       "                                <th id=\"T_ed5961ba_feb0_11eb_8a88_3c15c2bdf0eelevel1_row15\" class=\"row_heading level1 row15\" >고객소재지_시군구_성남시</th>\n",
       "                        <td id=\"T_ed5961ba_feb0_11eb_8a88_3c15c2bdf0eerow15_col0\" class=\"data row15 col0\" >0.430000</td>\n",
       "            </tr>\n",
       "            <tr>\n",
       "                        <th id=\"T_ed5961ba_feb0_11eb_8a88_3c15c2bdf0eelevel0_row16\" class=\"row_heading level0 row16\" >고객소재지_시군구_고양시</th>\n",
       "                        <th id=\"T_ed5961ba_feb0_11eb_8a88_3c15c2bdf0eelevel1_row16\" class=\"row_heading level1 row16\" >고객소재지_광역시도_경기도</th>\n",
       "                        <td id=\"T_ed5961ba_feb0_11eb_8a88_3c15c2bdf0eerow16_col0\" class=\"data row16 col0\" >0.430000</td>\n",
       "            </tr>\n",
       "            <tr>\n",
       "                        <th id=\"T_ed5961ba_feb0_11eb_8a88_3c15c2bdf0eelevel0_row17\" class=\"row_heading level0 row17\" >고객소재지_시군구_성남시</th>\n",
       "                        <th id=\"T_ed5961ba_feb0_11eb_8a88_3c15c2bdf0eelevel1_row17\" class=\"row_heading level1 row17\" >고객소재지_광역시도_경기도</th>\n",
       "                        <td id=\"T_ed5961ba_feb0_11eb_8a88_3c15c2bdf0eerow17_col0\" class=\"data row17 col0\" >0.430000</td>\n",
       "            </tr>\n",
       "            <tr>\n",
       "                        <th id=\"T_ed5961ba_feb0_11eb_8a88_3c15c2bdf0eelevel0_row18\" class=\"row_heading level0 row18\" >가구생애주기_성인자녀가구</th>\n",
       "                        <th id=\"T_ed5961ba_feb0_11eb_8a88_3c15c2bdf0eelevel1_row18\" class=\"row_heading level1 row18\" >연령</th>\n",
       "                        <td id=\"T_ed5961ba_feb0_11eb_8a88_3c15c2bdf0eerow18_col0\" class=\"data row18 col0\" >-0.430000</td>\n",
       "            </tr>\n",
       "            <tr>\n",
       "                        <th id=\"T_ed5961ba_feb0_11eb_8a88_3c15c2bdf0eelevel0_row19\" class=\"row_heading level0 row19\" >연령</th>\n",
       "                        <th id=\"T_ed5961ba_feb0_11eb_8a88_3c15c2bdf0eelevel1_row19\" class=\"row_heading level1 row19\" >가구생애주기_성인자녀가구</th>\n",
       "                        <td id=\"T_ed5961ba_feb0_11eb_8a88_3c15c2bdf0eerow19_col0\" class=\"data row19 col0\" >-0.430000</td>\n",
       "            </tr>\n",
       "            <tr>\n",
       "                        <th id=\"T_ed5961ba_feb0_11eb_8a88_3c15c2bdf0eelevel0_row20\" class=\"row_heading level0 row20\" >가구생애주기_초중고자녀가구</th>\n",
       "                        <th id=\"T_ed5961ba_feb0_11eb_8a88_3c15c2bdf0eelevel1_row20\" class=\"row_heading level1 row20\" >연령</th>\n",
       "                        <td id=\"T_ed5961ba_feb0_11eb_8a88_3c15c2bdf0eerow20_col0\" class=\"data row20 col0\" >-0.460000</td>\n",
       "            </tr>\n",
       "            <tr>\n",
       "                        <th id=\"T_ed5961ba_feb0_11eb_8a88_3c15c2bdf0eelevel0_row21\" class=\"row_heading level0 row21\" >연령</th>\n",
       "                        <th id=\"T_ed5961ba_feb0_11eb_8a88_3c15c2bdf0eelevel1_row21\" class=\"row_heading level1 row21\" >가구생애주기_초중고자녀가구</th>\n",
       "                        <td id=\"T_ed5961ba_feb0_11eb_8a88_3c15c2bdf0eerow21_col0\" class=\"data row21 col0\" >-0.460000</td>\n",
       "            </tr>\n",
       "            <tr>\n",
       "                        <th id=\"T_ed5961ba_feb0_11eb_8a88_3c15c2bdf0eelevel0_row22\" class=\"row_heading level0 row22\" >고객소재지_광역시도_서울특별시</th>\n",
       "                        <th id=\"T_ed5961ba_feb0_11eb_8a88_3c15c2bdf0eelevel1_row22\" class=\"row_heading level1 row22\" >고객소재지_광역시도_인천광역시</th>\n",
       "                        <td id=\"T_ed5961ba_feb0_11eb_8a88_3c15c2bdf0eerow22_col0\" class=\"data row22 col0\" >-0.480000</td>\n",
       "            </tr>\n",
       "            <tr>\n",
       "                        <th id=\"T_ed5961ba_feb0_11eb_8a88_3c15c2bdf0eelevel0_row23\" class=\"row_heading level0 row23\" >고객소재지_광역시도_인천광역시</th>\n",
       "                        <th id=\"T_ed5961ba_feb0_11eb_8a88_3c15c2bdf0eelevel1_row23\" class=\"row_heading level1 row23\" >고객소재지_광역시도_서울특별시</th>\n",
       "                        <td id=\"T_ed5961ba_feb0_11eb_8a88_3c15c2bdf0eerow23_col0\" class=\"data row23 col0\" >-0.480000</td>\n",
       "            </tr>\n",
       "            <tr>\n",
       "                        <th id=\"T_ed5961ba_feb0_11eb_8a88_3c15c2bdf0eelevel0_row24\" class=\"row_heading level0 row24\" >고객소재지_광역시도_서울특별시</th>\n",
       "                        <th id=\"T_ed5961ba_feb0_11eb_8a88_3c15c2bdf0eelevel1_row24\" class=\"row_heading level1 row24\" >고객소재지_광역시도_경기도</th>\n",
       "                        <td id=\"T_ed5961ba_feb0_11eb_8a88_3c15c2bdf0eerow24_col0\" class=\"data row24 col0\" >-0.730000</td>\n",
       "            </tr>\n",
       "            <tr>\n",
       "                        <th id=\"T_ed5961ba_feb0_11eb_8a88_3c15c2bdf0eelevel0_row25\" class=\"row_heading level0 row25\" >고객소재지_광역시도_경기도</th>\n",
       "                        <th id=\"T_ed5961ba_feb0_11eb_8a88_3c15c2bdf0eelevel1_row25\" class=\"row_heading level1 row25\" >고객소재지_광역시도_서울특별시</th>\n",
       "                        <td id=\"T_ed5961ba_feb0_11eb_8a88_3c15c2bdf0eerow25_col0\" class=\"data row25 col0\" >-0.730000</td>\n",
       "            </tr>\n",
       "    </tbody></table>"
      ],
      "text/plain": [
       "<pandas.io.formats.style.Styler at 0x183b2669b50>"
      ]
     },
     "execution_count": 45,
     "metadata": {},
     "output_type": "execute_result"
    }
   ],
   "source": [
    "df = pd.DataFrame(s[((0.4 < s) | (s < -0.4)) & (s != 1) & (s != -1)].sort_values(ascending=False), columns=['corr'])\n",
    "df.style.background_gradient(cmap='viridis')"
   ]
  },
  {
   "cell_type": "code",
   "execution_count": 39,
   "metadata": {},
   "outputs": [
    {
     "data": {
      "text/plain": [
       "기준년월           기준년월             1.00000\n",
       "               품목대분류코드          0.02000\n",
       "               품목중분류코드          0.02000\n",
       "               연령              -0.04000\n",
       "               매출금액            -0.01000\n",
       "                                 ...   \n",
       "고객소재지_시군구_중랑구  고객소재지_시군구_용인시   -0.04000\n",
       "               고객소재지_시군구_은평구   -0.02000\n",
       "               고객소재지_시군구_종로구   -0.02000\n",
       "               고객소재지_시군구_중구    -0.02000\n",
       "               고객소재지_시군구_중랑구    1.00000\n",
       "Length: 4489, dtype: float64"
      ]
     },
     "execution_count": 39,
     "metadata": {},
     "output_type": "execute_result"
    }
   ],
   "source": [
    "s"
   ]
  },
  {
   "cell_type": "code",
   "execution_count": 41,
   "metadata": {},
   "outputs": [
    {
     "data": {
      "text/plain": [
       "품목대분류코드      품목대분류명_기타     0.96000\n",
       "품목중분류코드      품목대분류명_기타     0.96000\n",
       "연령           가구생애주기_1인가구   0.55000\n",
       "매출금액         매출건수          0.91000\n",
       "매출건수         매출금액          0.91000\n",
       "품목대분류명_기타    품목대분류코드       0.96000\n",
       "             품목중분류코드       0.96000\n",
       "가구생애주기_1인가구  연령            0.55000\n",
       "dtype: float64"
      ]
     },
     "execution_count": 41,
     "metadata": {},
     "output_type": "execute_result"
    }
   ],
   "source": [
    "s[(0.5 < s) & (s != 1)]"
   ]
  },
  {
   "cell_type": "markdown",
   "metadata": {},
   "source": [
    "#### "
   ]
  }
 ],
 "metadata": {
  "kernelspec": {
   "display_name": "Python 3",
   "language": "python",
   "name": "python3"
  },
  "language_info": {
   "codemirror_mode": {
    "name": "ipython",
    "version": 3
   },
   "file_extension": ".py",
   "mimetype": "text/x-python",
   "name": "python",
   "nbconvert_exporter": "python",
   "pygments_lexer": "ipython3",
   "version": "3.8.5"
  }
 },
 "nbformat": 4,
 "nbformat_minor": 4
}
